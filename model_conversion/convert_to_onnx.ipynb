{
 "cells": [
  {
   "attachments": {},
   "cell_type": "markdown",
   "metadata": {},
   "source": [
    "## Convert IA : keras to onnx file\n"
   ]
  },
  {
   "cell_type": "code",
   "execution_count": 3,
   "metadata": {},
   "outputs": [
    {
     "name": "stdout",
     "output_type": "stream",
     "text": [
      "WARNING:tensorflow:Compiled the loaded model, but the compiled metrics have yet to be built. `model.compile_metrics` will be empty until you train or evaluate the model.\n"
     ]
    },
    {
     "name": "stderr",
     "output_type": "stream",
     "text": [
      "WARNING:tensorflow:Compiled the loaded model, but the compiled metrics have yet to be built. `model.compile_metrics` will be empty until you train or evaluate the model.\n"
     ]
    },
    {
     "name": "stdout",
     "output_type": "stream",
     "text": [
      "INFO:tensorflow:Assets written to: /home/eekmekci/projects/keras/convert/keras2cpp/new_model.pb/assets\n"
     ]
    },
    {
     "name": "stderr",
     "output_type": "stream",
     "text": [
      "INFO:tensorflow:Assets written to: /home/eekmekci/projects/keras/convert/keras2cpp/new_model.pb/assets\n",
      "2025-04-18 12:10:32.980827: I tensorflow/compiler/xla/stream_executor/cuda/cuda_gpu_executor.cc:995] successful NUMA node read from SysFS had negative value (-1), but there must be at least one NUMA node, so returning NUMA node zero. See more at https://github.com/torvalds/linux/blob/v6.0/Documentation/ABI/testing/sysfs-bus-pci#L344-L355\n",
      "2025-04-18 12:10:32.980987: I tensorflow/core/grappler/devices.cc:66] Number of eligible GPUs (core count >= 8, compute capability >= 0.0): 1\n",
      "2025-04-18 12:10:32.981071: I tensorflow/core/grappler/clusters/single_machine.cc:357] Starting new session\n",
      "2025-04-18 12:10:32.981489: I tensorflow/compiler/xla/stream_executor/cuda/cuda_gpu_executor.cc:995] successful NUMA node read from SysFS had negative value (-1), but there must be at least one NUMA node, so returning NUMA node zero. See more at https://github.com/torvalds/linux/blob/v6.0/Documentation/ABI/testing/sysfs-bus-pci#L344-L355\n",
      "2025-04-18 12:10:32.981604: W tensorflow/core/common_runtime/gpu/gpu_device.cc:1960] Cannot dlopen some GPU libraries. Please make sure the missing libraries mentioned above are installed properly if you would like to use GPU. Follow the guide at https://www.tensorflow.org/install/gpu for how to download and setup the required libraries for your platform.\n",
      "Skipping registering GPU devices...\n",
      "2025-04-18 12:10:33.013418: I tensorflow/compiler/xla/stream_executor/cuda/cuda_gpu_executor.cc:995] successful NUMA node read from SysFS had negative value (-1), but there must be at least one NUMA node, so returning NUMA node zero. See more at https://github.com/torvalds/linux/blob/v6.0/Documentation/ABI/testing/sysfs-bus-pci#L344-L355\n",
      "2025-04-18 12:10:33.013574: I tensorflow/core/grappler/devices.cc:66] Number of eligible GPUs (core count >= 8, compute capability >= 0.0): 1\n",
      "2025-04-18 12:10:33.013667: I tensorflow/core/grappler/clusters/single_machine.cc:357] Starting new session\n",
      "2025-04-18 12:10:33.013911: I tensorflow/compiler/xla/stream_executor/cuda/cuda_gpu_executor.cc:995] successful NUMA node read from SysFS had negative value (-1), but there must be at least one NUMA node, so returning NUMA node zero. See more at https://github.com/torvalds/linux/blob/v6.0/Documentation/ABI/testing/sysfs-bus-pci#L344-L355\n",
      "2025-04-18 12:10:33.014016: W tensorflow/core/common_runtime/gpu/gpu_device.cc:1960] Cannot dlopen some GPU libraries. Please make sure the missing libraries mentioned above are installed properly if you would like to use GPU. Follow the guide at https://www.tensorflow.org/install/gpu for how to download and setup the required libraries for your platform.\n",
      "Skipping registering GPU devices...\n"
     ]
    },
    {
     "name": "stdout",
     "output_type": "stream",
     "text": [
      "1/1 [==============================] - 0s 33ms/step\n",
      "0.00030517578\n"
     ]
    }
   ],
   "source": [
    "#***************************************************************\n",
    "# Endvironment : myconvert\n",
    "#***************************************************************\n",
    "from tensorflow.keras.models import model_from_json\n",
    "from tensorflow.keras.models import Model\n",
    "from sklearn.cluster import KMeans\n",
    "from collections import Counter, defaultdict\n",
    "import cv2\n",
    "import onnx\n",
    "import tensorflow as tf\n",
    "import tf2onnx\n",
    "import onnx \n",
    "import onnxruntime as rt\n",
    "import numpy as np\n",
    "import pandas\n",
    "\n",
    "json_file = open('convautoencodermodel_10.json', 'r')\n",
    "loaded_model_json = json_file.read()\n",
    "json_file.close()\n",
    "loaded_model = model_from_json(loaded_model_json)\n",
    "loaded_model.load_weights(\"convautoencodermodel_10.h5\")\n",
    "jearsey_layer_model = Model(inputs=loaded_model.input,outputs=loaded_model.get_layer(\"conv2d_15\").output)\n",
    "\n",
    "#****************************************************************\n",
    "#     Binding of inputs : name is essential for binding in c++\n",
    "#****************************************************************\n",
    "input_signature = [tf.TensorSpec([1, 64, 64, 3], tf.float32, name='x')]\n",
    "onnx_model, _ = tf2onnx.convert.from_keras(jearsey_layer_model, input_signature, opset=13)\n",
    "output_names = [n.name for n in onnx_model.graph.output]\n",
    "onnx.save(onnx_model, \"./model.onnx\")\n",
    "\n",
    "patches = []\n",
    "patche = cv2.imread('visage.png')\n",
    "patches.append(cv2.resize(patche, (64, 64)))\n",
    "\n",
    "providers = ['CPUExecutionProvider']\n",
    "m = rt.InferenceSession(\"./model.onnx\", providers=providers)\n",
    "onnx_pred = m.run(output_names, {\"x\": patches})\n",
    "\n",
    "representation = jearsey_layer_model.predict(np.array(patches))\n",
    "A = np.array(representation - onnx_pred[0])\n",
    "print(np.max(A))\n"
   ]
  }
 ],
 "metadata": {
  "kernelspec": {
   "display_name": "Python 3.10.4 ('stats')",
   "language": "python",
   "name": "python3"
  },
  "language_info": {
   "codemirror_mode": {
    "name": "ipython",
    "version": 3
   },
   "file_extension": ".py",
   "mimetype": "text/x-python",
   "name": "python",
   "nbconvert_exporter": "python",
   "pygments_lexer": "ipython3",
   "version": "3.9.21"
  },
  "orig_nbformat": 4,
  "vscode": {
   "interpreter": {
    "hash": "66f52c0c865c69cd841edfd328be87d99f22cd549d21160b1e7ff895e40ef1a4"
   }
  }
 },
 "nbformat": 4,
 "nbformat_minor": 2
}
